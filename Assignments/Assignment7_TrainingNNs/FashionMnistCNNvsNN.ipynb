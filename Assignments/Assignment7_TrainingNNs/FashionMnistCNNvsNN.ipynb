{
 "cells": [
  {
   "cell_type": "markdown",
   "metadata": {},
   "source": [
    "## Author: Seth Cram\n",
    "### Class: CS404 - Machine and Robotic Vision\n",
    "### Assignment 7 - Training Neural Networks\n",
    "\n",
    "### Instructions:\n",
    "1. Use the Fashion MNIST dataset\n",
    "2. Train a fully connected neural network on fashion MNIST using the keras library\n",
    "3. Train a convolutional neural network on fashion MNIST using the keras library\n",
    "4. Compare and contrast the final model accuracy between the fully connected network and convolutional network.\n",
    "6. Plot the model performance over time (epochs), plotting both accuracy AND loss of the model for training AND validation set. \n",
    "7. For the convolutional neural network, feel free to directly use: https://medium.com/@chamara95.eng/neural-network-example-using-fashion-mnist-dataset-c19b48c86cf1 \n",
    "8. For the fully connected network, you may have to reshape your input data\n",
    "9. Report: Summarize what you did, your results, and include the graph of the model’s performance over the epochs. Include your code. \n",
    "(Google Colab comes with the modules pre-installed and provides some limited access to GPUs, if you are interested)\n",
    "Do not use transfer learning here!"
   ]
  },
  {
   "cell_type": "code",
   "execution_count": 1,
   "metadata": {},
   "outputs": [],
   "source": [
    "import tensorflow as tf\n",
    "from tensorflow import keras\n",
    "\n",
    "import numpy as np\n",
    "import matplotlib.pyplot as plt\n",
    "import cv2 as cv\n",
    "from MachineVisionLibrary import mv_functs\n",
    "from enum import Enum\n",
    "\n",
    "#ensure our Python version uses proper div and print\n",
    "from __future__ import absolute_import, division, print_function\n",
    "\n",
    "class Classes(Enum):\n",
    "    Tshirt_or_Top = 0\n",
    "    Trouser = 1\n",
    "    Pullover = 2\n",
    "    Dress = 3\n",
    "    Coat = 4\n",
    "    Sandal = 5\n",
    "    Shirt = 6\n",
    "    Sneaker = 7\n",
    "    Bag = 8\n",
    "    Ankle_Boot = 9"
   ]
  },
  {
   "cell_type": "code",
   "execution_count": 2,
   "metadata": {},
   "outputs": [],
   "source": [
    "#retrieve data set using Keras library\n",
    "\n",
    "#get dataset\n",
    "fashion_mnist = keras.datasets.fashion_mnist\n",
    "\n",
    "#load data into a 60k, 10k split\n",
    "(x_train, y_train_labels), (x_test, y_test_labels) = fashion_mnist.load_data()"
   ]
  },
  {
   "cell_type": "code",
   "execution_count": 3,
   "metadata": {},
   "outputs": [],
   "source": [
    "#preprocess data\n",
    "\n",
    "#greyscale\n",
    "x_train = x_train/255.0\n",
    "x_test = x_test/255.0"
   ]
  },
  {
   "cell_type": "code",
   "execution_count": 4,
   "metadata": {},
   "outputs": [],
   "source": [
    "#Model Construction\n",
    "model = keras.Sequential([\n",
    "    keras.layers.Flatten(input_shape=(28,28)), #flatten input into a single input layer\n",
    "    keras.layers.Dense(128, activation=tf.nn.relu), #hidden layer with 128 hidden nodes + relu activation funct\n",
    "    keras.layers.Dense(10, activation=tf.nn.softmax) #out layer w/ 10 output nodes + softmax activation (prob of 0-1 summing to 1)\n",
    "])\n",
    "\n",
    "#Model Configuration\n",
    "model.compile(\n",
    "    optimizer='adam',\n",
    "    loss='sparse_categorical_crossentropy', #not sure why 'sparse'\n",
    "    metrics=['accuracy']\n",
    ")"
   ]
  },
  {
   "cell_type": "code",
   "execution_count": 6,
   "metadata": {},
   "outputs": [
    {
     "name": "stdout",
     "output_type": "stream",
     "text": [
      "Epoch 1/10\n",
      "1875/1875 [==============================] - 2s 819us/step - loss: 0.2838 - accuracy: 0.8955\n",
      "Epoch 2/10\n",
      "1875/1875 [==============================] - 2s 819us/step - loss: 0.2736 - accuracy: 0.8978\n",
      "Epoch 3/10\n",
      "1875/1875 [==============================] - 2s 823us/step - loss: 0.2602 - accuracy: 0.9042\n",
      "Epoch 4/10\n",
      "1875/1875 [==============================] - 2s 820us/step - loss: 0.2505 - accuracy: 0.9061\n",
      "Epoch 5/10\n",
      "1875/1875 [==============================] - 2s 818us/step - loss: 0.2410 - accuracy: 0.9091\n",
      "Epoch 6/10\n",
      "1875/1875 [==============================] - 2s 821us/step - loss: 0.2342 - accuracy: 0.9128\n",
      "Epoch 7/10\n",
      "1875/1875 [==============================] - 2s 812us/step - loss: 0.2263 - accuracy: 0.9149\n",
      "Epoch 8/10\n",
      "1875/1875 [==============================] - 2s 816us/step - loss: 0.2183 - accuracy: 0.9174\n",
      "Epoch 9/10\n",
      "1875/1875 [==============================] - 2s 815us/step - loss: 0.2116 - accuracy: 0.9201\n",
      "Epoch 10/10\n",
      "1875/1875 [==============================] - 2s 818us/step - loss: 0.2067 - accuracy: 0.9224\n",
      "313/313 [==============================] - 0s 696us/step - loss: 0.3491 - accuracy: 0.8815\n"
     ]
    }
   ],
   "source": [
    "#Model training\n",
    "model.fit(\n",
    "    x_train,\n",
    "    y_train_labels,\n",
    "    epochs=10\n",
    ")\n",
    "\n",
    "#Model Evaluation\n",
    "test_loss, test_acc = model.evaluate(x_test, y_test_labels)"
   ]
  },
  {
   "cell_type": "code",
   "execution_count": null,
   "metadata": {},
   "outputs": [],
   "source": [
    "#Plotting\n",
    "\n"
   ]
  }
 ],
 "metadata": {
  "kernelspec": {
   "display_name": "Python 3.10.7 ('.venv': venv)",
   "language": "python",
   "name": "python3"
  },
  "language_info": {
   "codemirror_mode": {
    "name": "ipython",
    "version": 3
   },
   "file_extension": ".py",
   "mimetype": "text/x-python",
   "name": "python",
   "nbconvert_exporter": "python",
   "pygments_lexer": "ipython3",
   "version": "3.10.7"
  },
  "orig_nbformat": 4,
  "vscode": {
   "interpreter": {
    "hash": "75353bc701f8f8edd2d01688132a4ff2c561c5da089a93a5e33feaccaf7348a5"
   }
  }
 },
 "nbformat": 4,
 "nbformat_minor": 2
}
