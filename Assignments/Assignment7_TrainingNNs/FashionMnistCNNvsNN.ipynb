{
 "cells": [
  {
   "cell_type": "markdown",
   "metadata": {},
   "source": [
    "## Author: Seth Cram\n",
    "### Class: CS404 - Machine and Robotic Vision\n",
    "### Assignment 7 - Training Neural Networks\n",
    "\n",
    "### Instructions:\n",
    "1. Use the Fashion MNIST dataset\n",
    "2. Train a fully connected neural network on fashion MNIST using the keras library\n",
    "3. Train a convolutional neural network on fashion MNIST using the keras library\n",
    "4. Compare and contrast the final model accuracy between the fully connected network and convolutional network.\n",
    "6. Plot the model performance over time (epochs), plotting both accuracy AND loss of the model for training AND validation set. \n",
    "7. For the convolutional neural network, feel free to directly use: https://medium.com/@chamara95.eng/neural-network-example-using-fashion-mnist-dataset-c19b48c86cf1 \n",
    "8. For the fully connected network, you may have to reshape your input data\n",
    "9. Report: Summarize what you did, your results, and include the graph of the model’s performance over the epochs. Include your code. \n",
    "(Google Colab comes with the modules pre-installed and provides some limited access to GPUs, if you are interested)\n",
    "Do not use transfer learning here!"
   ]
  },
  {
   "cell_type": "code",
   "execution_count": 1,
   "metadata": {},
   "outputs": [],
   "source": [
    "import tensorflow as tf\n",
    "from tensorflow import keras\n",
    "\n",
    "import numpy as np\n",
    "import matplotlib.pyplot as plt\n",
    "import cv2 as cv\n",
    "from MachineVisionLibrary import mv_functs\n",
    "\n",
    "#ensure our Python version uses proper div and print\n",
    "from __future__ import absolute_import, division, print_function"
   ]
  }
 ],
 "metadata": {
  "kernelspec": {
   "display_name": "Python 3.10.7 ('.venv': venv)",
   "language": "python",
   "name": "python3"
  },
  "language_info": {
   "codemirror_mode": {
    "name": "ipython",
    "version": 3
   },
   "file_extension": ".py",
   "mimetype": "text/x-python",
   "name": "python",
   "nbconvert_exporter": "python",
   "pygments_lexer": "ipython3",
   "version": "3.10.7"
  },
  "orig_nbformat": 4,
  "vscode": {
   "interpreter": {
    "hash": "75353bc701f8f8edd2d01688132a4ff2c561c5da089a93a5e33feaccaf7348a5"
   }
  }
 },
 "nbformat": 4,
 "nbformat_minor": 2
}
